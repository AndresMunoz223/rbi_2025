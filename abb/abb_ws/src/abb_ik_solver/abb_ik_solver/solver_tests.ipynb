{
 "cells": [
  {
   "cell_type": "code",
   "execution_count": 1,
   "id": "97166a01",
   "metadata": {},
   "outputs": [],
   "source": [
    "import numpy as np\n",
    "\n",
    "dh_params = np.array([[0, 0, 1.202, 0],\n",
    "                      [90, 0.06988, 0, 90],\n",
    "                      [0, 0.362, 0, 90],\n",
    "                      [0, 0.380, 0, 180],\n",
    "                      [-90, 0, 0, 180],\n",
    "                      [-90, 0, 0.065, 180]])\n"
   ]
  },
  {
   "cell_type": "code",
   "execution_count": 2,
   "id": "7ee9e9c9",
   "metadata": {},
   "outputs": [
    {
     "data": {
      "text/plain": [
       "array([[ 0.000e+00,  0.000e+00,  1.202e+00,  0.000e+00],\n",
       "       [ 9.000e+01,  6.988e-02,  0.000e+00,  9.000e+01],\n",
       "       [ 0.000e+00,  3.620e-01,  0.000e+00,  9.000e+01],\n",
       "       [ 0.000e+00,  3.800e-01,  0.000e+00,  1.800e+02],\n",
       "       [-9.000e+01,  0.000e+00,  0.000e+00,  1.800e+02],\n",
       "       [-9.000e+01,  0.000e+00,  6.500e-02,  1.800e+02]])"
      ]
     },
     "execution_count": 2,
     "metadata": {},
     "output_type": "execute_result"
    }
   ],
   "source": [
    "dh_params"
   ]
  },
  {
   "cell_type": "code",
   "execution_count": null,
   "id": "9020d022",
   "metadata": {},
   "outputs": [],
   "source": [
    "def get_transformation_matrix():\n",
    "\n",
    "T_0_1_a = np.array([[1, 0, 0, dh_params[0][1]],\n",
    "                       [0, 1, 0, 0],\n",
    "                       [0, 0, 1, 0],\n",
    "                       [0, 0, 0, 1]])\n",
    "\n",
    "R_0_1_alph = np.array([[1, 0, 0, 0],\n",
    "                       [0, 1, 0, 0],\n",
    "                       [0, 0, 1, 0],\n",
    "                       [0, 0, 0, 1]])\n"
   ]
  }
 ],
 "metadata": {
  "kernelspec": {
   "display_name": "Python 3",
   "language": "python",
   "name": "python3"
  },
  "language_info": {
   "codemirror_mode": {
    "name": "ipython",
    "version": 3
   },
   "file_extension": ".py",
   "mimetype": "text/x-python",
   "name": "python",
   "nbconvert_exporter": "python",
   "pygments_lexer": "ipython3",
   "version": "3.10.12"
  }
 },
 "nbformat": 4,
 "nbformat_minor": 5
}
